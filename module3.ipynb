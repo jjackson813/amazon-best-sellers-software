{
 "cells": [
  {
   "cell_type": "code",
   "execution_count": 1,
   "metadata": {},
   "outputs": [],
   "source": [
    "import pandas as pd\n",
    "from sklearn.preprocessing import StandardScaler\n",
    "from sklearn.metrics.pairwise import cosine_similarity\n",
    "import numpy as np"
   ]
  },
  {
   "cell_type": "code",
   "execution_count": 11,
   "metadata": {},
   "outputs": [],
   "source": [
    "df = pd.read_csv(\"Amazon Best Sellers Data.csv\")"
   ]
  },
  {
   "cell_type": "code",
   "execution_count": 3,
   "metadata": {},
   "outputs": [],
   "source": [
    "# Clearning the price column --- removing non-numeric characters and converting nums to float\n",
    "df['product_price_clean'] = df['product_price'].str.replace(r'[^\\d\\.]', '', regex=True)\n",
    "df['product_price_clean'] = pd.to_numeric(df['product_price_clean'], errors='coerce')"
   ]
  },
  {
   "cell_type": "code",
   "execution_count": 5,
   "metadata": {},
   "outputs": [],
   "source": [
    "df_clean = df.dropna(subset=['product_price_clean', 'product_star_rating', 'product_num_ratings'])\n",
    "\n",
    "features = df_clean[['product_price_clean', 'product_star_rating', 'product_num_ratings']]\n",
    "scaler = StandardScaler()\n",
    "scaled_features = scaler.fit_transform(features)"
   ]
  },
  {
   "cell_type": "code",
   "execution_count": 6,
   "metadata": {},
   "outputs": [],
   "source": [
    "similarity_matrix = cosine_similarity(scaled_features)"
   ]
  },
  {
   "cell_type": "code",
   "execution_count": 7,
   "metadata": {},
   "outputs": [],
   "source": [
    "query_titles = [\n",
    "    'TurboTax Deluxe 2024 Tax Software, Federal & State Tax Return [PC/MAC Download]',\n",
    "    'Microsoft Office Home 2024 | Classic Apps: Word, Excel, PowerPoint | One-Time Purchase for 1 PC/MAC | Instant Download | Form',\n",
    "    'Norton 360 Premium 2025, Antivirus software for 10 Devices with Auto-Renewal – Includes Advanced AI Scam Protection, VPN, Dar'\n",
    "]"
   ]
  },
  {
   "cell_type": "code",
   "execution_count": 8,
   "metadata": {},
   "outputs": [],
   "source": [
    "query_indices = [df_clean[df_clean['product_title'] == title].index[0] for title in query_titles]"
   ]
  },
  {
   "cell_type": "code",
   "execution_count": 10,
   "metadata": {},
   "outputs": [
    {
     "name": "stdout",
     "output_type": "stream",
     "text": [
      "\n",
      "====================================================================================================\n",
      "Top 10 Most Similar Products to:\n",
      "👉 TurboTax Deluxe 2024 Tax Software, Federal & State Tax Return [PC/MAC Download]\n",
      "====================================================================================================\n",
      "                                                                                                                product_title  product_price  product_star_rating  product_num_ratings\n",
      "                                              TurboTax Deluxe 2024 Tax Software, Federal & State Tax Return [PC/MAC Download]          55.99                  4.2               6511.0\n",
      "Norton 360 Premium 2025, Antivirus software for 10 Devices with Auto Renewal - Includes VPN, PC Cloud Backup & Dark Web Monit          29.99                  4.2               6625.0\n",
      "Norton 360 Premium 2025, Antivirus software for 10 Devices with Auto Renewal - Includes VPN, PC Cloud Backup & Dark Web Monit          29.99                  4.2               6625.0\n",
      "Norton 360 Premium 2021 – Antivirus software for 10 Devices with Auto Renewal - Includes VPN, PC Cloud Backup & Dark Web Moni          44.13                  4.2               6307.0\n",
      "McAfee Total Protection 2024 | 1 Device, 1 Year | Antivirus Internet Security Software | Password Manager & Dark Web Monitori         760.00                  4.2               5635.0\n",
      "McAfee Total Protection 2024 | 1 Device, 1 Year | Antivirus Internet Security Software | Password Manager & Dark Web Monitori         760.00                  4.2               5635.0\n",
      "                 QuickSteuer 2025 (für Steuerjahr 2024) Private und gewerbliche Steuererklärung PC Aktivierungscode per Email        1499.00                  4.2               4914.0\n",
      "                                                                        Microsoft Office Home 2024 | Activation Code by email         114.17                  4.2               5416.0\n",
      "Microsoft Home & Student 2021 | One-Time purchase for 1 PC or MAC | Word, Excel, PowerPoint | Instand Download | Activation R          89.99                  4.2               5416.0\n",
      "Microsoft 365 Family | 15 month subscription | up to 6 people | up to 6TB OneDrive cloud storage + McAfee Total Protection |           75.99                  4.2               5416.0\n",
      "\n",
      "====================================================================================================\n",
      "Top 10 Most Similar Products to:\n",
      "👉 Microsoft Office Home 2024 | Classic Apps: Word, Excel, PowerPoint | One-Time Purchase for 1 PC/MAC | Instant Download | Form\n",
      "====================================================================================================\n",
      "                                                                                                                product_title  product_price  product_star_rating  product_num_ratings\n",
      "Microsoft Office Home 2024 | Classic Apps: Word, Excel, PowerPoint | One-Time Purchase for 1 PC/MAC | Instant Download | Form         140.99                  3.8                470.0\n",
      "Norton 360 Premium 2022 10 Devices 1 Year with Automatic Renewal Includes Secure VPN Password Manager - PCs, Mac, Smartphones          58.96                  3.8                282.0\n",
      "Norton 360 Premium 2022 10 Devices 1 Year with Automatic Renewal Includes Secure VPN Password Manager - PCs, Mac, Smartphones          58.96                  3.8                282.0\n",
      "VideoConverter Ultimate - Superfast Video Conversion Into More than 150 Formats - Video Format Conversion Software for Window          34.99                  3.8                252.0\n",
      "VideoConverter Ultimate - Superfast Video Conversion Into More than 150 Formats - Video Format Conversion Software for Window          34.99                  3.8                252.0\n",
      "Wyze Security Plan - Cam Plus | 1 Camera | 1 Month Subscription. AI features | Smart Detection for Person, Pet, Package, Vehi           2.99                  3.8                239.0\n",
      "Wyze Security Plan - Cam Plus | 1 Camera | 1 Month Subscription. AI features | Smart Detection for Person, Pet, Package, Vehi           2.99                  3.8                239.0\n",
      "Wyze Security Plan - Cam Unlimited | Unlimited Cameras | 1 Month Subscription. Full AI features | Facial Recognition for Frie           9.99                  3.8                239.0\n",
      "Wyze Security Plan - Cam Unlimited | Unlimited Cameras | 1 Month Subscription. Full AI features | Facial Recognition for Frie           9.99                  3.8                239.0\n",
      "Office Suite 2025 Compatible with Microsoft Office 2024 2021 365 2019 2016 2013 2010 2007 Word Excel PowerPoint on CD DVD Pow          24.99                  3.8                227.0\n",
      "\n",
      "====================================================================================================\n",
      "Top 10 Most Similar Products to:\n",
      "👉 Norton 360 Premium 2025, Antivirus software for 10 Devices with Auto-Renewal – Includes Advanced AI Scam Protection, VPN, Dar\n",
      "====================================================================================================\n",
      "                                                                                                                product_title  product_price  product_star_rating  product_num_ratings\n",
      "Norton 360 Premium 2025, Antivirus software for 10 Devices with Auto-Renewal – Includes Advanced AI Scam Protection, VPN, Dar          29.99                  4.1               5036.0\n",
      "Laplink PCmover Ultimate 11 - Easily Transfer Files to New Computer - Efficient Migration of Applications from Old PC to a Ne          39.95                  4.1               5467.0\n",
      "Laplink PCmover Ultimate 11 - Easily Transfer Files to New Computer - Efficient Migration of Applications from Old PC to a Ne          39.95                  4.1               5467.0\n",
      "Laplink PCmover Ultimate 11 - Migration of your Applications, Files and Settings from an Old PC to a New PC - Data Transfer S          62.95                  4.1               5467.0\n",
      "Laplink PCmover Ultimate 11 - Migration of your Applications, Files and Settings from an Old PC to a New PC - Data Transfer S          62.95                  4.1               5467.0\n",
      "                                          K7 Security K7 Antivirus Premium- 1 User, 1 Year (Email Delivery In 2 Hours, No Cd)         199.00                  4.1               4443.0\n",
      "                                          K7 Security K7 Antivirus Premium- 1 User, 1 Year (Email Delivery In 2 Hours, No Cd)         199.00                  4.1               4443.0\n",
      "Laplink PCmover Ultimate 11 - Migration of your Applications, Files and Settings from an Old PC to a New PC - Data Transfer S          87.95                  4.1               4477.0\n",
      "Laplink PCmover Ultimate 11 - Migration of your Applications, Files and Settings from an Old PC to a New PC - Data Transfer S          87.95                  4.1               4477.0\n",
      "Laplink PCmover Ultimate 11 - Easily Transfer Files to New Computer - Efficient Migration of Applications from Old PC to a Ne          62.93                  4.1               4477.0\n"
     ]
    }
   ],
   "source": [
    "top_k = 10\n",
    "results = {}\n",
    "\n",
    "for idx, title in zip(query_indices, query_titles):\n",
    "    similarities = similarity_matrix[idx]\n",
    "    similar_indices = np.argsort(similarities)[::-1][1:top_k+1]  # Exclude the query itself\n",
    "    results[title] = df_clean.iloc[similar_indices][[\n",
    "        'product_title', 'product_price_clean', 'product_star_rating', 'product_num_ratings'\n",
    "    ]].rename(columns={'product_price_clean': 'product_price'}).reset_index(drop=True)\n",
    "\n",
    "for query, similar_df in results.items():\n",
    "    print(\"\\n\" + \"=\"*100)\n",
    "    print(f\"Top {top_k} Most Similar Products to:\\n👉 {query}\")\n",
    "    print(\"=\"*100)\n",
    "    print(similar_df.to_string(index=False))"
   ]
  }
 ],
 "metadata": {
  "kernelspec": {
   "display_name": "Python 3",
   "language": "python",
   "name": "python3"
  },
  "language_info": {
   "codemirror_mode": {
    "name": "ipython",
    "version": 3
   },
   "file_extension": ".py",
   "mimetype": "text/x-python",
   "name": "python",
   "nbconvert_exporter": "python",
   "pygments_lexer": "ipython3",
   "version": "3.12.2"
  }
 },
 "nbformat": 4,
 "nbformat_minor": 2
}
