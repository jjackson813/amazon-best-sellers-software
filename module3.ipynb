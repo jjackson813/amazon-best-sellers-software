{
 "cells": [
  {
   "cell_type": "code",
   "execution_count": 1,
   "metadata": {},
   "outputs": [],
   "source": [
    "import pandas as pd\n",
    "from sklearn.preprocessing import StandardScaler\n",
    "from sklearn.metrics.pairwise import cosine_similarity\n",
    "import numpy as np"
   ]
  },
  {
   "cell_type": "code",
   "execution_count": 11,
   "metadata": {},
   "outputs": [],
   "source": [
    "df = pd.read_csv(\"Amazon Best Sellers Data.csv\")"
   ]
  },
  {
   "cell_type": "code",
   "execution_count": 3,
   "metadata": {},
   "outputs": [],
   "source": [
    "# Clearning the price column --- removing non-numeric characters and converting nums to float\n",
    "df['product_price_clean'] = df['product_price'].str.replace(r'[^\\d\\.]', '', regex=True)\n",
    "df['product_price_clean'] = pd.to_numeric(df['product_price_clean'], errors='coerce')"
   ]
  },
  {
   "cell_type": "code",
   "execution_count": 5,
   "metadata": {},
   "outputs": [],
   "source": [
    "df_clean = df.dropna(subset=['product_price_clean', 'product_star_rating', 'product_num_ratings'])\n",
    "\n",
    "features = df_clean[['product_price_clean', 'product_star_rating', 'product_num_ratings']]\n",
    "scaler = StandardScaler()\n",
    "scaled_features = scaler.fit_transform(features)"
   ]
  },
  {
   "cell_type": "code",
   "execution_count": 6,
   "metadata": {},
   "outputs": [],
   "source": [
    "similarity_matrix = cosine_similarity(scaled_features)"
   ]
  },
  {
   "cell_type": "code",
   "execution_count": 7,
   "metadata": {},
   "outputs": [],
   "source": [
    "query_titles = [\n",
    "    'TurboTax Deluxe 2024 Tax Software, Federal & State Tax Return [PC/MAC Download]',\n",
    "    'Microsoft Office Home 2024 | Classic Apps: Word, Excel, PowerPoint | One-Time Purchase for 1 PC/MAC | Instant Download | Form',\n",
    "    'Norton 360 Premium 2025, Antivirus software for 10 Devices with Auto-Renewal – Includes Advanced AI Scam Protection, VPN, Dar'\n",
    "]"
   ]
  },
  {
   "cell_type": "code",
   "execution_count": 8,
   "metadata": {},
   "outputs": [],
   "source": [
    "query_indices = [df_clean[df_clean['product_title'] == title].index[0] for title in query_titles]"
   ]
  },
  {
   "cell_type": "code",
   "execution_count": null,
   "metadata": {},
   "outputs": [],
   "source": [
    "top_k = 10\n",
    "results = {}\n",
    "\n",
    "for idx, title in zip(query_indices, query_titles):\n",
    "    similarities = similarity_matrix[idx]\n",
    "    similar_indices = np.argsort(similarities)[::-1][1:top_k+1]  # Exclude the query itself\n",
    "    results[title] = df_clean.iloc[similar_indices][[\n",
    "        'product_title', 'product_price_clean', 'product_star_rating', 'product_num_ratings'\n",
    "    ]].rename(columns={'product_price_clean': 'product_price'}).reset_index(drop=True)\n",
    "\n",
    "for query, similar_df in results.items():\n",
    "    #print(\"\\n\" + \"- -\"*100)\n",
    "    print(f\"Top {top_k} Most Similar Products to:\\n {query}\")\n",
    "    print(\"=\"*100)\n",
    "    print(similar_df.to_string(index=False))"
   ]
  }
 ],
 "metadata": {
  "kernelspec": {
   "display_name": "Python 3",
   "language": "python",
   "name": "python3"
  },
  "language_info": {
   "codemirror_mode": {
    "name": "ipython",
    "version": 3
   },
   "file_extension": ".py",
   "mimetype": "text/x-python",
   "name": "python",
   "nbconvert_exporter": "python",
   "pygments_lexer": "ipython3",
   "version": "3.12.2"
  }
 },
 "nbformat": 4,
 "nbformat_minor": 2
}
